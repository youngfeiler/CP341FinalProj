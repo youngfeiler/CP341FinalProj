{
 "cells": [
  {
   "cell_type": "code",
   "execution_count": 1,
   "id": "e75368c6-b033-433e-a146-2495dceb7bd6",
   "metadata": {},
   "outputs": [
    {
     "name": "stderr",
     "output_type": "stream",
     "text": [
      "C:\\Users\\gstkn\\anaconda3\\envs\\py4sci\\lib\\site-packages\\tqdm\\auto.py:21: TqdmWarning: IProgress not found. Please update jupyter and ipywidgets. See https://ipywidgets.readthedocs.io/en/stable/user_install.html\n",
      "  from .autonotebook import tqdm as notebook_tqdm\n"
     ]
    }
   ],
   "source": [
    "import torch\n",
    "from pytorch_pretrained_bert import BertTokenizer, BertModel, BertForMaskedLM \n",
    "from torch import nn\n",
    "import pandas as pd\n",
    "import pyarrow as pa\n",
    "from torch.optim import Adam"
   ]
  },
  {
   "cell_type": "code",
   "execution_count": 2,
   "id": "b1fa42f4-fe4d-48fd-8f87-cd97a6b867f6",
   "metadata": {},
   "outputs": [],
   "source": [
    "df = pd.read_parquet(\"small_tokenized_data.parquet\")\n",
    "IDS = df[\"input_ids\"].tolist()\n",
    "newIDS=[]\n",
    "for each in IDS:\n",
    "    #end_index = next((i for i, x in enumerate(each) if x==0), len(each))\n",
    "    # Remove the trailing 0's\n",
    "    #each = each[:end_index]\n",
    "    # Convert the input to a tensor\n",
    "    input_tensor = torch.tensor(each).unsqueeze(0)\n",
    "    newIDS.append(each)"
   ]
  },
  {
   "cell_type": "code",
   "execution_count": 3,
   "id": "c0f1a7cd-5d81-4a2c-9534-252d5d7e2016",
   "metadata": {},
   "outputs": [],
   "source": [
    "bert = BertModel.from_pretrained('bert-base-uncased')"
   ]
  },
  {
   "cell_type": "code",
   "execution_count": null,
   "id": "d596fe63-fe28-425b-9e77-6808c826750b",
   "metadata": {},
   "outputs": [
    {
     "name": "stderr",
     "output_type": "stream",
     "text": [
      "C:\\Users\\gstkn\\AppData\\Local\\Temp\\ipykernel_20492\\2467505805.py:2: UserWarning: Creating a tensor from a list of numpy.ndarrays is extremely slow. Please consider converting the list to a single numpy.ndarray with numpy.array() before converting to a tensor. (Triggered internally at  C:\\b\\abs_bao0hdcrdh\\croot\\pytorch_1675190257512\\work\\torch\\csrc\\utils\\tensor_new.cpp:204.)\n",
      "  x = torch.tensor(newIDS[:8])\n"
     ]
    },
    {
     "name": "stdout",
     "output_type": "stream",
     "text": [
      "torch.Size([8, 512])\n"
     ]
    }
   ],
   "source": [
    "#PyTorch tensor with first 3 reviews from our training set and pass it to it\n",
    "x = torch.tensor(newIDS[:8])\n",
    "print(x.shape)\n",
    "#this is the BERTs final layer output for each token\n",
    "y, pooled = bert(x, output_all_encoded_layers=False)\n",
    "\n",
    "\n",
    "# NEXT THING TO DO\n",
    "#neural net model to go from pooled (vetors) to labels"
   ]
  },
  {
   "cell_type": "code",
   "execution_count": null,
   "id": "22dddb47-2f6b-4a4a-a8c8-30d2fe66798d",
   "metadata": {},
   "outputs": [],
   "source": [
    "print(pooled.shape)\n",
    "print(y.shape)"
   ]
  },
  {
   "cell_type": "code",
   "execution_count": null,
   "id": "a572c9b2-c7b9-48da-bc82-05aac321252d",
   "metadata": {},
   "outputs": [],
   "source": [
    "#NOT TOTALLY SURE IF THIS IS GOING TO BE USED YET\n",
    "\n",
    "class BertBinaryClassifier (nn.Module):\n",
    "    \n",
    "    def _init__(self, dropout=0.1):\n",
    "        super (BertBinaryClassifier, self).init()\n",
    "        self.bert = BertModel.from_pretrained ('bert-base-uncased' )\n",
    "        self.linear = nn. Linear (768, 1)\n",
    "        self.sigmoid = nn. Sigmoid ()\n",
    "\n",
    "    def forward(self, tokens):\n",
    "        _, pooled_output = self.bert (tokens, utput_all=False)\n",
    "        línear_output = self.Linear(dropout_output)\n",
    "        pred = self.sigmoid(linear_output)\n",
    "        return pred"
   ]
  },
  {
   "cell_type": "code",
   "execution_count": null,
   "id": "c57491da-50e8-4cd2-ba9a-554fa14224bf",
   "metadata": {},
   "outputs": [],
   "source": []
  }
 ],
 "metadata": {
  "kernelspec": {
   "display_name": "Python 3 (ipykernel)",
   "language": "python",
   "name": "python3"
  },
  "language_info": {
   "codemirror_mode": {
    "name": "ipython",
    "version": 3
   },
   "file_extension": ".py",
   "mimetype": "text/x-python",
   "name": "python",
   "nbconvert_exporter": "python",
   "pygments_lexer": "ipython3",
   "version": "3.10.10"
  }
 },
 "nbformat": 4,
 "nbformat_minor": 5
}

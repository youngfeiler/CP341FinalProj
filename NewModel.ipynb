{
 "cells": [
  {
   "cell_type": "code",
   "execution_count": 39,
   "id": "e75368c6-b033-433e-a146-2495dceb7bd6",
   "metadata": {},
   "outputs": [],
   "source": [
    "import torch\n",
    "from pytorch_pretrained_bert import BertTokenizer, BertModel, BertForMaskedLM \n",
    "from torch import nn\n",
    "import pandas as pd\n",
    "import pyarrow as pa\n",
    "from torch.optim import Adam\n",
    "import numpy as np"
   ]
  },
  {
   "cell_type": "code",
   "execution_count": 40,
   "id": "b1fa42f4-fe4d-48fd-8f87-cd97a6b867f6",
   "metadata": {},
   "outputs": [],
   "source": [
    "df = pd.read_parquet(\"small_tokenized_data.parquet\")\n",
    "IDS = df[\"input_ids\"].tolist()\n",
    "newIDS=[]\n",
    "for each in IDS:\n",
    "    #end_index = next((i for i, x in enumerate(each) if x==0), len(each))\n",
    "    # Remove the trailing 0's\n",
    "    #each = each[:end_index]\n",
    "    # Convert the input to a tensor\n",
    "    input_tensor = torch.tensor(each).unsqueeze(0)\n",
    "    newIDS.append(each)"
   ]
  },
  {
   "cell_type": "code",
   "execution_count": null,
   "id": "57ea3f26",
   "metadata": {},
   "outputs": [],
   "source": [
    "#get the star count AKA the y from half_data\n",
    "df = pd.read_parquet(\"small_tokenized_data.parquet\")\n",
    "IDS = df[\"stars\"].tolist()\n",
    "starIDS=[]\n",
    "for each in IDS:\n",
    "    #end_index = next((i for i, x in enumerate(each) if x==0), len(each))\n",
    "    # Remove the trailing 0's\n",
    "    #each = each[:end_index]\n",
    "    # Convert the input to a tensor\n",
    "    input_tensor = torch.tensor(each).unsqueeze(0)\n",
    "    starIDS.append(each)"
   ]
  },
  {
   "cell_type": "code",
   "execution_count": 41,
   "id": "c0f1a7cd-5d81-4a2c-9534-252d5d7e2016",
   "metadata": {},
   "outputs": [],
   "source": [
    "bert = BertModel.from_pretrained('bert-base-uncased')"
   ]
  },
  {
   "cell_type": "code",
   "execution_count": null,
   "id": "b0584dc1",
   "metadata": {},
   "outputs": [],
   "source": [
    "#load data in batches for bert\n",
    "bertData = torch.utils.data.TensorDataset(torch.tensor(newIDS), torch.tensor(starIDS))\n",
    "\n",
    "# set up a data loader to get batches from our dataset\n",
    "bertLoader = torch.utils.data.DataLoader(bertData, batch_size = 16, shuffle = True)"
   ]
  },
  {
   "cell_type": "code",
   "execution_count": 42,
   "id": "d596fe63-fe28-425b-9e77-6808c826750b",
   "metadata": {},
   "outputs": [
    {
     "name": "stdout",
     "output_type": "stream",
     "text": [
      "torch.Size([8, 512])\n"
     ]
    }
   ],
   "source": [
    "#PyTorch tensor with first 3 reviews from our training set and pass it to it\n",
    "#this is the BERTs final layer output for each token\n",
    "for batch in bertLoader:\n",
    "    y, pooled = bert(batch[0], output_all_encoded_layers=False)\n",
    "\n",
    "\n",
    "# NEXT THING TO DO\n",
    "#neural net model to go from pooled (vetors) to labels"
   ]
  },
  {
   "cell_type": "code",
   "execution_count": 43,
   "id": "22dddb47-2f6b-4a4a-a8c8-30d2fe66798d",
   "metadata": {},
   "outputs": [
    {
     "name": "stdout",
     "output_type": "stream",
     "text": [
      "torch.Size([8, 768])\n",
      "torch.Size([8, 512, 768])\n"
     ]
    }
   ],
   "source": [
    "print(pooled.shape)\n",
    "print(y.shape)"
   ]
  },
  {
   "cell_type": "code",
   "execution_count": 45,
   "id": "213a495c",
   "metadata": {},
   "outputs": [
    {
     "name": "stdout",
     "output_type": "stream",
     "text": [
      "tensor([[-0.3662, -0.6554, -0.9980,  ..., -0.9882, -0.5634,  0.1054],\n",
      "        [-0.7312, -0.6987, -0.9994,  ..., -0.9884, -0.6710,  0.4328],\n",
      "        [-0.4229, -0.6139, -0.9968,  ..., -0.9809, -0.3606,  0.0971],\n",
      "        ...,\n",
      "        [-0.5516, -0.5865, -0.9968,  ..., -0.9810, -0.4725,  0.1771],\n",
      "        [-0.5540, -0.6922, -0.9979,  ..., -0.9860, -0.6478,  0.3626],\n",
      "        [-0.2911, -0.3518, -0.9795,  ..., -0.8972, -0.2740,  0.3097]],\n",
      "       grad_fn=<TanhBackward0>)\n"
     ]
    }
   ],
   "source": [
    "print(pooled)"
   ]
  },
  {
   "cell_type": "code",
   "execution_count": 75,
   "id": "6df0b2bd-18cb-4fe5-a079-8941952adf35",
   "metadata": {
    "tags": []
   },
   "outputs": [],
   "source": [
    "import torch\n",
    "from sklearn.model_selection import train_test_split\n",
    "# convert our data into a torch dataset\n",
    "#need y data from the file\n",
    "x_train, x_test, y_train, y_test = train_test_split(pooled.detach(), ratings, test_size=0.15)\n",
    "ratings = torch.tensor(starIDS).float()\n",
    "data = torch.utils.data.TensorDataset(x_train, y_train)\n",
    "\n",
    "# set up a data loader to get batches from our dataset\n",
    "loader = torch.utils.data.DataLoader(data, batch_size = 16, shuffle = True)"
   ]
  },
  {
   "cell_type": "code",
   "execution_count": 76,
   "id": "eb6d85e8-edaa-484d-a2c5-262228fb361c",
   "metadata": {
    "tags": []
   },
   "outputs": [],
   "source": [
    "model = torch.nn.Sequential(   \n",
    "    torch.nn.Linear(768,800),\n",
    "    torch.nn.Sigmoid(),\n",
    "    torch.nn.Linear(800,1),\n",
    "    torch.nn.Sigmoid()\n",
    ")"
   ]
  },
  {
   "cell_type": "code",
   "execution_count": 77,
   "id": "a5bfe530-b4a4-496f-8e24-14197906f167",
   "metadata": {
    "tags": []
   },
   "outputs": [],
   "source": [
    "scoring_function = torch.nn.MSELoss()\n",
    "num_epochs = 10\n",
    "\n",
    "optimizer = torch.optim.SGD( model.parameters(), .001 )"
   ]
  },
  {
   "cell_type": "code",
   "execution_count": 78,
   "id": "f787ccb9-42d2-4f58-8268-39e5ee143fb6",
   "metadata": {
    "tags": []
   },
   "outputs": [],
   "source": [
    "def train():\n",
    "    for step in range (num_epochs):\n",
    "\n",
    "        for batch in loader:\n",
    "            optimizer.zero_grad()\n",
    "            batchX = batch[0]\n",
    "            #print(batchX.size())\n",
    "            batchY = batch[1].unsqueeze(-1)\n",
    "            #print(batchY.size())\n",
    "            # do a gradient descent update of out linear model.\n",
    "\n",
    "            # put data through the model\n",
    "            preds = model(batchX)\n",
    "            #print (preds.shape)\n",
    "            #fixedPreds=preds[:,0]\n",
    "            #print(\"preds: \", fixedPreds)\n",
    "            # collect the error\n",
    "            errors = scoring_function(preds, batchY)\n",
    "            #print(\"errors: \", errors)\n",
    "\n",
    "            # compute the gradient of the error with regard to the model paramenters\n",
    "            errors.backward()\n",
    "\n",
    "            # take a step in that direction\n",
    "            optimizer.step()\n",
    "    new_x_tensor= torch.tensor(x_test).float()\n",
    "    preds= model(new_x_tensor)\n",
    "    accuracy= accuracy_score(np.round(preds.detach().numpy()), y_test)\n",
    "    print(accuracy)\n",
    "        \n",
    "            "
   ]
  },
  {
   "cell_type": "code",
   "execution_count": 79,
   "id": "6addde3c",
   "metadata": {},
   "outputs": [],
   "source": [
    "train()"
   ]
  },
  {
   "cell_type": "code",
   "execution_count": null,
   "id": "0d682008",
   "metadata": {},
   "outputs": [],
   "source": []
  }
 ],
 "metadata": {
  "kernelspec": {
   "display_name": "Python 3 (ipykernel)",
   "language": "python",
   "name": "python3"
  },
  "language_info": {
   "codemirror_mode": {
    "name": "ipython",
    "version": 3
   },
   "file_extension": ".py",
   "mimetype": "text/x-python",
   "name": "python",
   "nbconvert_exporter": "python",
   "pygments_lexer": "ipython3",
   "version": "3.10.10"
  }
 },
 "nbformat": 4,
 "nbformat_minor": 5
}

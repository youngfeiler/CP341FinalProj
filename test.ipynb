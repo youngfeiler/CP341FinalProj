{
 "cells": [
  {
   "cell_type": "code",
   "execution_count": 1,
   "id": "c9810ad4",
   "metadata": {},
   "outputs": [],
   "source": [
    "# THis is a test"
   ]
  },
  {
   "cell_type": "code",
   "execution_count": 1,
   "id": "3cd1ed16",
   "metadata": {
    "tags": []
   },
   "outputs": [],
   "source": [
    "# This is another test\n",
    "# adding code"
   ]
  },
  {
   "cell_type": "code",
   "execution_count": null,
   "id": "610e2929-d04e-4bb8-91ad-3c078e5a46a5",
   "metadata": {},
   "outputs": [],
   "source": [
    "# this is the 3rd test"
   ]
  }
 ],
 "metadata": {
  "kernelspec": {
   "display_name": "Python 3 (ipykernel)",
   "language": "python",
   "name": "python3"
  },
  "language_info": {
   "codemirror_mode": {
    "name": "ipython",
    "version": 3
   },
   "file_extension": ".py",
   "mimetype": "text/x-python",
   "name": "python",
   "nbconvert_exporter": "python",
   "pygments_lexer": "ipython3",
   "version": "3.10.9"
  }
 },
 "nbformat": 4,
 "nbformat_minor": 5
}
